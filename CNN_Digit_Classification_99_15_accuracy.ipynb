{
  "nbformat": 4,
  "nbformat_minor": 0,
  "metadata": {
    "colab": {
      "name": "CNN: Digit Classification - 99.15% accuracy.ipynb",
      "provenance": [],
      "collapsed_sections": []
    },
    "kernelspec": {
      "name": "python3",
      "display_name": "Python 3"
    },
    "accelerator": "TPU"
  },
  "cells": [
    {
      "cell_type": "markdown",
      "metadata": {
        "id": "WwG5uxEpKaNL"
      },
      "source": [
        "## Convolutional artificial neural network : Image classification on MNIST dataset.\r\n",
        "- Test Accuracy 99.15% without data augmentation"
      ]
    },
    {
      "cell_type": "code",
      "metadata": {
        "id": "o-DUt8ROKlvw"
      },
      "source": [
        "# Import modules\r\n",
        "from sklearn.datasets import fetch_openml\r\n",
        "from sklearn.model_selection import train_test_split\r\n",
        "\r\n",
        "import tensorflow.keras as keras\r\n",
        "from tensorflow.keras.models import Sequential\r\n",
        "from tensorflow.keras.layers import Conv2D, MaxPooling2D, BatchNormalization, Dropout, Input, Activation, Add, Dense, Flatten"
      ],
      "execution_count": 1,
      "outputs": []
    },
    {
      "cell_type": "markdown",
      "metadata": {
        "id": "arrbzOo4LR9q"
      },
      "source": [
        "### Data preparation\r\n",
        "\r\n",
        "#### Import data"
      ]
    },
    {
      "cell_type": "code",
      "metadata": {
        "id": "s4wT7dbPLTNZ"
      },
      "source": [
        "def load_data():\r\n",
        "    # Import MNIST dataset from openml\r\n",
        "    dataset = fetch_openml('mnist_784', version=1, data_home=None)\r\n",
        "\r\n",
        "    # Data preparation\r\n",
        "    raw_X = dataset['data']\r\n",
        "    raw_Y = dataset['target']\r\n",
        "    return raw_X, raw_Y\r\n",
        "\r\n",
        "raw_X, raw_Y = load_data()"
      ],
      "execution_count": 2,
      "outputs": []
    },
    {
      "cell_type": "markdown",
      "metadata": {
        "id": "WRp1jQTrLc39"
      },
      "source": [
        "#### Preprocessing"
      ]
    },
    {
      "cell_type": "code",
      "metadata": {
        "id": "8mG0hdDRLZgD"
      },
      "source": [
        "def clean_data(raw_X, raw_Y):\r\n",
        "\r\n",
        "    cleaned_X = raw_X.astype('float32')\r\n",
        "    cleaned_X /= 255\r\n",
        "\r\n",
        "    cleaned_X = cleaned_X.reshape(cleaned_X.shape[0], 28, 28, 1)\r\n",
        "    \r\n",
        "    num_classes = 10\r\n",
        "    cleaned_Y = keras.utils.to_categorical(raw_Y, num_classes)\r\n",
        "    \r\n",
        "    return cleaned_X, cleaned_Y\r\n",
        "\r\n",
        "cleaned_X, cleaned_Y = clean_data(raw_X, raw_Y)"
      ],
      "execution_count": 3,
      "outputs": []
    },
    {
      "cell_type": "code",
      "metadata": {
        "colab": {
          "base_uri": "https://localhost:8080/"
        },
        "id": "8oqPFAJFZGkz",
        "outputId": "2bc5e38d-5f30-4895-e845-1010928c2423"
      },
      "source": [
        "cleaned_X.shape"
      ],
      "execution_count": 4,
      "outputs": [
        {
          "output_type": "execute_result",
          "data": {
            "text/plain": [
              "(70000, 28, 28, 1)"
            ]
          },
          "metadata": {
            "tags": []
          },
          "execution_count": 4
        }
      ]
    },
    {
      "cell_type": "code",
      "metadata": {
        "colab": {
          "base_uri": "https://localhost:8080/"
        },
        "id": "hxuwheoPZL2h",
        "outputId": "78704277-164c-48e1-e57c-085f38bb3b49"
      },
      "source": [
        "cleaned_Y.shape"
      ],
      "execution_count": 5,
      "outputs": [
        {
          "output_type": "execute_result",
          "data": {
            "text/plain": [
              "(70000, 10)"
            ]
          },
          "metadata": {
            "tags": []
          },
          "execution_count": 5
        }
      ]
    },
    {
      "cell_type": "markdown",
      "metadata": {
        "id": "K5OYgzj7NU_y"
      },
      "source": [
        "#### Data split\r\n",
        "\r\n",
        "- Split data into a train set (50%), validation set (20%) and a test set (30%)."
      ]
    },
    {
      "cell_type": "code",
      "metadata": {
        "id": "7h7HIVDNNYap"
      },
      "source": [
        "def split_data(cleaned_X, cleaned_Y):\r\n",
        "\r\n",
        "    X_train, X_test, Y_train, Y_test = train_test_split(cleaned_X, cleaned_Y, test_size=0.3, random_state=42)\r\n",
        "    X_train, X_val, Y_train, Y_val = train_test_split(X_train, Y_train, test_size=2/7, random_state=42)\r\n",
        "    \r\n",
        "    return X_val, X_test, X_train, Y_val, Y_test, Y_train\r\n",
        "\r\n",
        "X_val, X_test, X_train, Y_val, Y_test, Y_train = split_data(cleaned_X, cleaned_Y)"
      ],
      "execution_count": 6,
      "outputs": []
    },
    {
      "cell_type": "code",
      "metadata": {
        "colab": {
          "base_uri": "https://localhost:8080/"
        },
        "id": "8X7QgAGxZeK8",
        "outputId": "ac153bc1-d6ba-4ad6-d355-7fc707c96d28"
      },
      "source": [
        "X_train.shape"
      ],
      "execution_count": 7,
      "outputs": [
        {
          "output_type": "execute_result",
          "data": {
            "text/plain": [
              "(35000, 28, 28, 1)"
            ]
          },
          "metadata": {
            "tags": []
          },
          "execution_count": 7
        }
      ]
    },
    {
      "cell_type": "code",
      "metadata": {
        "colab": {
          "base_uri": "https://localhost:8080/"
        },
        "id": "Psdm83bcZgoI",
        "outputId": "3a4cd4bc-8eb4-4ab8-f1c5-ff60b1cbf809"
      },
      "source": [
        "X_val.shape"
      ],
      "execution_count": 8,
      "outputs": [
        {
          "output_type": "execute_result",
          "data": {
            "text/plain": [
              "(14000, 28, 28, 1)"
            ]
          },
          "metadata": {
            "tags": []
          },
          "execution_count": 8
        }
      ]
    },
    {
      "cell_type": "code",
      "metadata": {
        "colab": {
          "base_uri": "https://localhost:8080/"
        },
        "id": "mW433KScZkHl",
        "outputId": "d29a11b6-704c-4db4-d30d-c724edea0b2c"
      },
      "source": [
        "X_test.shape"
      ],
      "execution_count": 9,
      "outputs": [
        {
          "output_type": "execute_result",
          "data": {
            "text/plain": [
              "(21000, 28, 28, 1)"
            ]
          },
          "metadata": {
            "tags": []
          },
          "execution_count": 9
        }
      ]
    },
    {
      "cell_type": "markdown",
      "metadata": {
        "id": "mY_z08TdNada"
      },
      "source": [
        "### Model\r\n",
        "\r\n",
        "#### Convolutional neural network architecture"
      ]
    },
    {
      "cell_type": "code",
      "metadata": {
        "id": "fFBD_RSL10fG"
      },
      "source": [
        "def build_model():\r\n",
        "\r\n",
        "    model = Sequential()\r\n",
        "    \r\n",
        "    model.add(Conv2D(filters=64, kernel_size=(3,3), activation='relu', input_shape=(28, 28, 1)))\r\n",
        "    model.add(Conv2D(filters=64, kernel_size=(3,3), activation='relu'))\r\n",
        "    model.add(MaxPooling2D((2,2)))\r\n",
        "    model.add(Dropout(0.20))\r\n",
        "\r\n",
        "    model.add(Conv2D(filters=128, kernel_size=(3,3), activation='relu'))\r\n",
        "    model.add(Conv2D(filters=128, kernel_size=(3,3), activation='relu'))\r\n",
        "    model.add(MaxPooling2D((2,2), strides=(2, 2)))\r\n",
        "    model.add(Conv2D(256, kernel_size = (3,3), activation='relu'))\r\n",
        "    model.add(MaxPooling2D((2,2)))\r\n",
        "    model.add(Dropout(0.4))\r\n",
        "\r\n",
        "    model.add(Flatten())\r\n",
        "    model.add(Dense(512, activation='relu'))\r\n",
        "    model.add(Dense(10, activation='softmax'))\r\n",
        "\r\n",
        "    model.summary()\r\n",
        "\r\n",
        "    return model"
      ],
      "execution_count": 10,
      "outputs": []
    },
    {
      "cell_type": "code",
      "metadata": {
        "id": "LFyE1xofbNLi"
      },
      "source": [
        "def compile_model(model):\r\n",
        "\r\n",
        "    model.compile(optimizer = 'adam', loss = 'categorical_crossentropy', metrics = ['accuracy'])\r\n",
        "\r\n",
        "    return model"
      ],
      "execution_count": 11,
      "outputs": []
    },
    {
      "cell_type": "code",
      "metadata": {
        "id": "3beLzHbJcG0Y"
      },
      "source": [
        "def train_model(model, X_train, Y_train, X_val, Y_val):\r\n",
        "\r\n",
        "    history = model.fit(X_train, Y_train, batch_size = 128, epochs = 15, verbose=1, validation_data=(X_val, Y_val))\r\n",
        "\r\n",
        "    return model, history"
      ],
      "execution_count": 17,
      "outputs": []
    },
    {
      "cell_type": "code",
      "metadata": {
        "colab": {
          "base_uri": "https://localhost:8080/"
        },
        "id": "jMQY6ymOcfzp",
        "outputId": "781a570f-008d-465a-f71c-4ebdedd6ae2e"
      },
      "source": [
        "model = build_model()\r\n",
        "model = compile_model(model)\r\n",
        "model, history = train_model(model, X_train, Y_train, X_val, Y_val)"
      ],
      "execution_count": 18,
      "outputs": [
        {
          "output_type": "stream",
          "text": [
            "Model: \"sequential_2\"\n",
            "_________________________________________________________________\n",
            "Layer (type)                 Output Shape              Param #   \n",
            "=================================================================\n",
            "conv2d_10 (Conv2D)           (None, 26, 26, 64)        640       \n",
            "_________________________________________________________________\n",
            "conv2d_11 (Conv2D)           (None, 24, 24, 64)        36928     \n",
            "_________________________________________________________________\n",
            "max_pooling2d_6 (MaxPooling2 (None, 12, 12, 64)        0         \n",
            "_________________________________________________________________\n",
            "dropout_4 (Dropout)          (None, 12, 12, 64)        0         \n",
            "_________________________________________________________________\n",
            "conv2d_12 (Conv2D)           (None, 10, 10, 128)       73856     \n",
            "_________________________________________________________________\n",
            "conv2d_13 (Conv2D)           (None, 8, 8, 128)         147584    \n",
            "_________________________________________________________________\n",
            "max_pooling2d_7 (MaxPooling2 (None, 4, 4, 128)         0         \n",
            "_________________________________________________________________\n",
            "conv2d_14 (Conv2D)           (None, 2, 2, 256)         295168    \n",
            "_________________________________________________________________\n",
            "max_pooling2d_8 (MaxPooling2 (None, 1, 1, 256)         0         \n",
            "_________________________________________________________________\n",
            "dropout_5 (Dropout)          (None, 1, 1, 256)         0         \n",
            "_________________________________________________________________\n",
            "flatten_2 (Flatten)          (None, 256)               0         \n",
            "_________________________________________________________________\n",
            "dense_4 (Dense)              (None, 512)               131584    \n",
            "_________________________________________________________________\n",
            "dense_5 (Dense)              (None, 10)                5130      \n",
            "=================================================================\n",
            "Total params: 690,890\n",
            "Trainable params: 690,890\n",
            "Non-trainable params: 0\n",
            "_________________________________________________________________\n",
            "Epoch 1/15\n",
            "274/274 [==============================] - 261s 949ms/step - loss: 0.7192 - accuracy: 0.7502 - val_loss: 0.0601 - val_accuracy: 0.9812\n",
            "Epoch 2/15\n",
            "274/274 [==============================] - 259s 947ms/step - loss: 0.0835 - accuracy: 0.9746 - val_loss: 0.0459 - val_accuracy: 0.9859\n",
            "Epoch 3/15\n",
            "274/274 [==============================] - 261s 951ms/step - loss: 0.0519 - accuracy: 0.9838 - val_loss: 0.0347 - val_accuracy: 0.9896\n",
            "Epoch 4/15\n",
            "274/274 [==============================] - 259s 944ms/step - loss: 0.0395 - accuracy: 0.9880 - val_loss: 0.0381 - val_accuracy: 0.9889\n",
            "Epoch 5/15\n",
            "274/274 [==============================] - 259s 945ms/step - loss: 0.0364 - accuracy: 0.9895 - val_loss: 0.0413 - val_accuracy: 0.9891\n",
            "Epoch 6/15\n",
            "274/274 [==============================] - 258s 943ms/step - loss: 0.0255 - accuracy: 0.9925 - val_loss: 0.0331 - val_accuracy: 0.9906\n",
            "Epoch 7/15\n",
            "274/274 [==============================] - 258s 940ms/step - loss: 0.0235 - accuracy: 0.9923 - val_loss: 0.0360 - val_accuracy: 0.9904\n",
            "Epoch 8/15\n",
            "274/274 [==============================] - 257s 940ms/step - loss: 0.0212 - accuracy: 0.9936 - val_loss: 0.0320 - val_accuracy: 0.9916\n",
            "Epoch 9/15\n",
            "274/274 [==============================] - 258s 941ms/step - loss: 0.0175 - accuracy: 0.9950 - val_loss: 0.0308 - val_accuracy: 0.9919\n",
            "Epoch 10/15\n",
            "274/274 [==============================] - 257s 939ms/step - loss: 0.0163 - accuracy: 0.9946 - val_loss: 0.0348 - val_accuracy: 0.9916\n",
            "Epoch 11/15\n",
            "274/274 [==============================] - 257s 938ms/step - loss: 0.0171 - accuracy: 0.9944 - val_loss: 0.0296 - val_accuracy: 0.9916\n",
            "Epoch 12/15\n",
            "274/274 [==============================] - 257s 938ms/step - loss: 0.0132 - accuracy: 0.9958 - val_loss: 0.0363 - val_accuracy: 0.9914\n",
            "Epoch 13/15\n",
            "274/274 [==============================] - 257s 939ms/step - loss: 0.0124 - accuracy: 0.9959 - val_loss: 0.0315 - val_accuracy: 0.9919\n",
            "Epoch 14/15\n",
            "274/274 [==============================] - 258s 942ms/step - loss: 0.0144 - accuracy: 0.9959 - val_loss: 0.0410 - val_accuracy: 0.9909\n",
            "Epoch 15/15\n",
            "274/274 [==============================] - 257s 940ms/step - loss: 0.0127 - accuracy: 0.9965 - val_loss: 0.0367 - val_accuracy: 0.9916\n"
          ],
          "name": "stdout"
        }
      ]
    },
    {
      "cell_type": "code",
      "metadata": {
        "colab": {
          "base_uri": "https://localhost:8080/"
        },
        "id": "SR-hkLY3delS",
        "outputId": "877431e8-3f61-4984-b1b5-c142a8223cb6"
      },
      "source": [
        "def eval_model(model, X_test, Y_test):\r\n",
        "\r\n",
        "    score = model.evaluate(X_test, Y_test, verbose=1)\r\n",
        "    test_loss = score[0] \r\n",
        "    test_accuracy = score[1]\r\n",
        "    print('Test Loss:', '%.4f' % test_loss)\r\n",
        "    print('Test Accuracy:', '%.4f' % test_accuracy)\r\n",
        "\r\n",
        "    return test_loss, test_accuracy\r\n",
        "\r\n",
        "test_loss, test_accuracy = eval_model(model, X_test, Y_test)"
      ],
      "execution_count": 19,
      "outputs": [
        {
          "output_type": "stream",
          "text": [
            "657/657 [==============================] - 38s 57ms/step - loss: 0.0357 - accuracy: 0.9915\n",
            "Test Loss: 0.0357\n",
            "Test Accuracy: 0.9915\n"
          ],
          "name": "stdout"
        }
      ]
    }
  ]
}